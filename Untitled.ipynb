{
 "cells": [
  {
   "cell_type": "code",
   "execution_count": 1,
   "id": "ed309ea7",
   "metadata": {},
   "outputs": [],
   "source": [
    "#import packages\n",
    "import pandas as pd\n",
    "import numpy as np\n",
    "\n",
    "#import nltk\n",
    "import nltk\n",
    "\n",
    "#import other\n",
    "import string\n",
    "import random"
   ]
  },
  {
   "cell_type": "code",
   "execution_count": 2,
   "id": "1110262a",
   "metadata": {},
   "outputs": [],
   "source": [
    "data=open('data.txt','r',errors = 'ignore')\n",
    "text=data.read()"
   ]
  },
  {
   "cell_type": "code",
   "execution_count": 4,
   "id": "6fa5a495",
   "metadata": {},
   "outputs": [
    {
     "data": {
      "text/plain": [
       "'data'"
      ]
     },
     "execution_count": 4,
     "metadata": {},
     "output_type": "execute_result"
    }
   ],
   "source": [
    "# to lower  case\n",
    "text=text.lower()\n",
    "# tokenize the words\n",
    "wr_ids = nltk.word_tokenize(text)\n",
    "# tokenize the sent\n",
    "st_ids = nltk.sent_tokenize(text)\n",
    "wr_ids[0]\n",
    "\n"
   ]
  },
  {
   "cell_type": "code",
   "execution_count": 5,
   "id": "3013c9a0",
   "metadata": {},
   "outputs": [
    {
     "data": {
      "text/plain": [
       "'data science is an interdisciplinary field that uses scientific methods, processes, algorithms and systems to extract knowledge and insights from structured and unstructured data,[1][2] and apply knowledge and actionable insights from data across a broad range of application domains.'"
      ]
     },
     "execution_count": 5,
     "metadata": {},
     "output_type": "execute_result"
    }
   ],
   "source": [
    "st_ids[0]"
   ]
  },
  {
   "cell_type": "code",
   "execution_count": 6,
   "id": "4513de67",
   "metadata": {},
   "outputs": [],
   "source": [
    "#importing the libraries\n",
    "\n",
    "from sklearn.feature_extraction.text import TfidfVectorizer\n",
    "from sklearn.metrics.pairwise import cosine_similarity"
   ]
  },
  {
   "cell_type": "code",
   "execution_count": 7,
   "id": "042ecbf5",
   "metadata": {},
   "outputs": [],
   "source": [
    "#define function for response\n",
    "\n",
    "def get_output(user_input):\n",
    "    \n",
    "    #define the output\n",
    "    output=''\n",
    "    \n",
    "    #append input to text\n",
    "    st_ids.append(user_input)\n",
    "    \n",
    "    #define tfidf\n",
    "    txt_v = TfidfVectorizer(stop_words='english')\n",
    "    \n",
    "    #get vector\n",
    "    vec_txt = txt_v.fit_transform(st_ids)\n",
    "    \n",
    "    #get score\n",
    "    rank_score= cosine_similarity(vec_txt[-1], vec_txt)\n",
    "    \n",
    "    \n",
    "    idx=rank_score.argsort()[0][-2]\n",
    "    ft_out = rank_score.flatten()\n",
    "    ft_out.sort()\n",
    "    final_v = ft_out[-2]\n",
    "    \n",
    "    \n",
    "    if(final_v==0):\n",
    "        output=output+\"Dont know this annswer, Ask something else\"\n",
    "        return output\n",
    "    else:\n",
    "        output = output+st_ids[idx]\n",
    "        return output"
   ]
  },
  {
   "cell_type": "code",
   "execution_count": 10,
   "id": "adb23d73",
   "metadata": {},
   "outputs": [
    {
     "name": "stdout",
     "output_type": "stream",
     "text": [
      "Enter your question\n",
      "\n",
      "what is computer science\n",
      "\n",
      "Ans: however, data science is different from computer science and information science.\n",
      "\n"
     ]
    }
   ],
   "source": [
    "\n",
    "\n",
    "print(\"Enter your question\")\n",
    "print(\"\")\n",
    "in_txt = input()\n",
    "in_txt=in_txt.lower()\n",
    "print(\"\")\n",
    "print(\"Ans:\", get_output(in_txt))\n",
    "print(\"\")\n",
    "st_ids.remove(in_txt)"
   ]
  },
  {
   "cell_type": "code",
   "execution_count": null,
   "id": "d7c8f8a6",
   "metadata": {},
   "outputs": [],
   "source": []
  },
  {
   "cell_type": "code",
   "execution_count": 11,
   "id": "38753040",
   "metadata": {},
   "outputs": [],
   "source": [
    "#import model and tokenizer\n",
    "from transformers import BertForQuestionAnswering\n",
    "from transformers import BertTokenizer\n",
    "\n",
    "# import torch \n",
    "import torch\n"
   ]
  },
  {
   "cell_type": "code",
   "execution_count": 12,
   "id": "adb908b3",
   "metadata": {},
   "outputs": [
    {
     "data": {
      "application/vnd.jupyter.widget-view+json": {
       "model_id": "2b8aa37f920a4e5c872776605a3b5559",
       "version_major": 2,
       "version_minor": 0
      },
      "text/plain": [
       "Downloading:   0%|          | 0.00/443 [00:00<?, ?B/s]"
      ]
     },
     "metadata": {},
     "output_type": "display_data"
    },
    {
     "name": "stderr",
     "output_type": "stream",
     "text": [
      "C:\\Users\\Mohamed\\AppData\\Roaming\\Python\\Python39\\site-packages\\huggingface_hub\\file_download.py:127: UserWarning: `huggingface_hub` cache-system uses symlinks by default to efficiently store duplicated files but your machine does not support them in C:\\Users\\Mohamed\\.cache\\huggingface\\hub. Caching files will still work but in a degraded version that might require more space on your disk. This warning can be disabled by setting the `HF_HUB_DISABLE_SYMLINKS_WARNING` environment variable. For more details, see https://huggingface.co/docs/huggingface_hub/how-to-cache#limitations.\n",
      "To support symlinks on Windows, you either need to activate Developer Mode or to run Python as an administrator. In order to see activate developer mode, see this article: https://docs.microsoft.com/en-us/windows/apps/get-started/enable-your-device-for-development\n",
      "  warnings.warn(message)\n"
     ]
    },
    {
     "data": {
      "application/vnd.jupyter.widget-view+json": {
       "model_id": "1cfa542ca7e74968b1908b8a9e5aab54",
       "version_major": 2,
       "version_minor": 0
      },
      "text/plain": [
       "Downloading:   0%|          | 0.00/1.34G [00:00<?, ?B/s]"
      ]
     },
     "metadata": {},
     "output_type": "display_data"
    },
    {
     "data": {
      "application/vnd.jupyter.widget-view+json": {
       "model_id": "274df323c6e246c3b87b0581552cebf1",
       "version_major": 2,
       "version_minor": 0
      },
      "text/plain": [
       "Downloading:   0%|          | 0.00/232k [00:00<?, ?B/s]"
      ]
     },
     "metadata": {},
     "output_type": "display_data"
    },
    {
     "data": {
      "application/vnd.jupyter.widget-view+json": {
       "model_id": "ea1e207371a04090b52f1be06c196bae",
       "version_major": 2,
       "version_minor": 0
      },
      "text/plain": [
       "Downloading:   0%|          | 0.00/28.0 [00:00<?, ?B/s]"
      ]
     },
     "metadata": {},
     "output_type": "display_data"
    }
   ],
   "source": [
    "#loading the pre trained Model\n",
    "qna_model = BertForQuestionAnswering.from_pretrained('bert-large-uncased-whole-word-masking-finetuned-squad')\n",
    "\n",
    "#loading the Tokenizer for same model\n",
    "qna_tokenizer = BertTokenizer.from_pretrained('bert-large-uncased-whole-word-masking-finetuned-squad')"
   ]
  },
  {
   "cell_type": "code",
   "execution_count": 13,
   "id": "b7918e1c",
   "metadata": {},
   "outputs": [],
   "source": [
    "ans_text = \"\"\"Virat Kohli (Hindi pronunciation: [ʋɪˈɾɑːʈ ˈkoːɦli] (listen); born 5 November 1988) is an Indian international cricketer and former captain of the Indian national team. He is widely regarded as one of the greatest batsmen of all time in international cricket.[3] Kohli plays as a right-handed batsman for Royal Challengers Bangalore in the IPL and for Delhi in Indian domestic cricket. He holds the record for scoring most runs in both T20 internationals and in IPL. In 2020, the International Cricket Council named him as player of decade. Kohli has won Man of the Tournament award twice at the ICC World Twenty20, in 2014 and 2016.\"\"\""
   ]
  },
  {
   "cell_type": "code",
   "execution_count": 14,
   "id": "54102903",
   "metadata": {},
   "outputs": [],
   "source": [
    "#function to get answer for a use given question\n",
    "\n",
    "def QnA(user_input_que):\n",
    "  \n",
    "  #tokinizng the texts\n",
    "  in_tok = qna_tokenizer.encode_plus(user_input_que, ans_text, return_tensors=\"pt\") \n",
    "\n",
    "  #getting scores from tokens\n",
    "  ans_str_sc, ans_en_sc = qna_model(**in_tok,return_dict=False)\n",
    "\n",
    "  #getting the position\n",
    "  ans_st = torch.argmax(ans_str_sc)  \n",
    "  ans_en = torch.argmax(ans_en_sc) + 1  \n",
    "\n",
    "  #ids are then converted to tokens\n",
    "  ans_tok = qna_tokenizer.convert_ids_to_tokens(in_tok[\"input_ids\"][0][ans_st:ans_en])\n",
    "\n",
    "  #getting the answer\n",
    "  return qna_tokenizer.convert_tokens_to_string(ans_tok)"
   ]
  },
  {
   "cell_type": "code",
   "execution_count": 15,
   "id": "da6626fa",
   "metadata": {},
   "outputs": [
    {
     "data": {
      "text/plain": [
       "'2016'"
      ]
     },
     "execution_count": 15,
     "metadata": {},
     "output_type": "execute_result"
    }
   ],
   "source": [
    "que = \"when did kohli win world cup\"\n",
    "\n",
    "QnA(que)"
   ]
  },
  {
   "cell_type": "code",
   "execution_count": 16,
   "id": "6afbb999",
   "metadata": {},
   "outputs": [
    {
     "data": {
      "text/plain": [
       "'5 november 1988'"
      ]
     },
     "execution_count": 16,
     "metadata": {},
     "output_type": "execute_result"
    }
   ],
   "source": [
    "que = \"when did kohli born\"\n",
    "\n",
    "QnA(que)"
   ]
  },
  {
   "cell_type": "code",
   "execution_count": 17,
   "id": "27e02146",
   "metadata": {},
   "outputs": [],
   "source": [
    "ans_text =\"\"\"Coronavirus disease 2019 (COVID-19) is a contagious disease caused by a virus, the severe acute respiratory syndrome coronavirus 2 (SARS-CoV-2). The first known case was identified in Wuhan, China, in December 2019.[7] The disease quickly spread worldwide, resulting in the COVID-19 pandemic. The symptoms of COVID‑19 are variable but often include fever,[8] cough, headache,[9] fatigue, breathing difficulties, loss of smell, and loss of taste.[10][11][12] Symptoms may begin one to fourteen days after exposure to the virus. At least a third of people who are infected do not develop noticeable symptoms.[13] Of those who develop symptoms noticeable enough to be classified as patients, most (81%) develop mild to moderate symptoms (up to mild pneumonia), while 14% develop severe symptoms (dyspnea, hypoxia, or more than 50% lung involvement on imaging), and 5% develop critical symptoms (respiratory failure, shock, or multiorgan dysfunction).[14] Older people are at a higher risk of developing severe symptoms. Some people continue to experience a range of effects (long COVID) for months after recovery, and damage to organs has been observed.[15] Multi-year studies are underway to further investigate the long-term effects of the disease.[15] COVID‑19 transmits when people breathe air contaminated by droplets and small airborne particles containing the virus. The risk of breathing these is highest when people are in close proximity, but they can be inhaled over longer distances, particularly indoors. Transmission can also occur if contaminated fluids are splashed or sprayed in the eyes, nose, or mouth, or, more rarely, via contaminated surfaces. People remain contagious for up to 20 days and can spread the virus even if they do not develop symptoms.[16][17]\"\"\""
   ]
  },
  {
   "cell_type": "code",
   "execution_count": 18,
   "id": "1dcc6cf1",
   "metadata": {},
   "outputs": [
    {
     "data": {
      "text/plain": [
       "'wuhan , china'"
      ]
     },
     "execution_count": 18,
     "metadata": {},
     "output_type": "execute_result"
    }
   ],
   "source": [
    "que = \"where did covid started?\"\n",
    "QnA(que)"
   ]
  },
  {
   "cell_type": "code",
   "execution_count": 19,
   "id": "a6349bac",
   "metadata": {},
   "outputs": [
    {
     "data": {
      "text/plain": [
       "'fever , [ 8 ] cough , headache , [ 9 ] fatigue , breathing difficulties , loss of smell , and loss of taste'"
      ]
     },
     "execution_count": 19,
     "metadata": {},
     "output_type": "execute_result"
    }
   ],
   "source": [
    "que = \"what are the symptoms of covid19?\"\n",
    "QnA(que)"
   ]
  },
  {
   "cell_type": "code",
   "execution_count": 23,
   "id": "f3eaf193",
   "metadata": {},
   "outputs": [],
   "source": [
    "ans_text=\"\"\"Mohamedis A Machine Leaning engineer and he was born 1997\"\"\""
   ]
  },
  {
   "cell_type": "code",
   "execution_count": 24,
   "id": "5e04cb4a",
   "metadata": {},
   "outputs": [
    {
     "data": {
      "text/plain": [
       "'a machine leaning engineer'"
      ]
     },
     "execution_count": 24,
     "metadata": {},
     "output_type": "execute_result"
    }
   ],
   "source": [
    "que = \"who is Mohamed?\"\n",
    "QnA(que)"
   ]
  },
  {
   "cell_type": "code",
   "execution_count": 27,
   "id": "acbd8bea",
   "metadata": {},
   "outputs": [
    {
     "data": {
      "text/plain": [
       "'mohamed'"
      ]
     },
     "execution_count": 27,
     "metadata": {},
     "output_type": "execute_result"
    }
   ],
   "source": [
    "que = \"when Mohamed born?\"\n",
    "QnA(que)"
   ]
  },
  {
   "cell_type": "code",
   "execution_count": null,
   "id": "7b0007ac",
   "metadata": {},
   "outputs": [],
   "source": []
  },
  {
   "cell_type": "code",
   "execution_count": null,
   "id": "695da48c",
   "metadata": {},
   "outputs": [],
   "source": []
  }
 ],
 "metadata": {
  "kernelspec": {
   "display_name": "Python 3 (ipykernel)",
   "language": "python",
   "name": "python3"
  },
  "language_info": {
   "codemirror_mode": {
    "name": "ipython",
    "version": 3
   },
   "file_extension": ".py",
   "mimetype": "text/x-python",
   "name": "python",
   "nbconvert_exporter": "python",
   "pygments_lexer": "ipython3",
   "version": "3.9.7"
  }
 },
 "nbformat": 4,
 "nbformat_minor": 5
}
